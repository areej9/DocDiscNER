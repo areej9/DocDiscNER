{
  "nbformat": 4,
  "nbformat_minor": 0,
  "metadata": {
    "colab": {
      "provenance": []
    },
    "kernelspec": {
      "name": "python3",
      "display_name": "Python 3"
    },
    "language_info": {
      "name": "python"
    }
  },
  "cells": [
    {
      "cell_type": "code",
      "source": [
        "# This is a document-level evaluation, providing a quick assessment of model performance using our format.\n",
        "# However, for comparability with SOTA models, we reported evaluation results using (Dai et al., 2020) evaluation script after converting our documents to sentences."
      ],
      "metadata": {
        "id": "yy2VHv4vr-_N"
      },
      "execution_count": null,
      "outputs": []
    },
    {
      "cell_type": "code",
      "source": [
        "# ShaRe 13 and 14 Evaluation, remove the text column befor evaluation."
      ],
      "metadata": {
        "id": "YIvpBhdqVSqu"
      },
      "execution_count": null,
      "outputs": []
    },
    {
      "cell_type": "code",
      "source": [
        "# implemented something similar to Dai's logic\n",
        "import os\n",
        "def evaluate_spans(predictions, targets):\n",
        "    TP = 0\n",
        "    FP = 0\n",
        "    FN = 0\n",
        "\n",
        "    pred_spans = [span.strip().replace('disorder:', '') for span in predictions.split(';') if span.strip()]\n",
        "    target_spans = [span.strip().replace('disorder:', '') for span in targets.split(';') if span.strip()]\n",
        "\n",
        "    for pred in pred_spans:\n",
        "        if pred in target_spans:\n",
        "            TP += 1\n",
        "            target_spans.remove(pred)  # Remove the matched span from target_spans\n",
        "        else:\n",
        "            FP += 1\n",
        "\n",
        "    # Calculate the remaining unmatched gold spans as false negatives\n",
        "    FN = len(target_spans)\n",
        "\n",
        "    return TP, FP, FN\n",
        "\n",
        "def evaluate_file(file_path):\n",
        "    total_TP = 0\n",
        "    total_FP = 0\n",
        "    total_FN = 0\n",
        "    temp_file_path = \"/content/Metrics.tsv\"\n",
        "    header_written = False\n",
        "\n",
        "    with open(file_path, 'r') as file, open(temp_file_path, 'w') as temp_file:\n",
        "        for line in file:\n",
        "            if not header_written:\n",
        "                header_written = True\n",
        "                temp_file.write(line.strip() + \"\\tTP\\tFP\\tFN\\n\")\n",
        "                continue\n",
        "\n",
        "            parts = line.strip().split('\\t')\n",
        "            prediction = parts[0]\n",
        "            target = parts[1]\n",
        "            true_positives, false_positives, false_negatives = evaluate_spans(prediction, target)\n",
        "            temp_file.write(f\"{line.strip()}\\t{true_positives}\\t{false_positives}\\t{false_negatives}\\n\")\n",
        "            total_TP += true_positives\n",
        "            total_FP += false_positives\n",
        "            total_FN += false_negatives\n",
        "\n",
        "    precision = total_TP / (total_TP + total_FP) if (total_TP + total_FP) > 0 else 0\n",
        "    recall = total_TP / (total_TP + total_FN) if (total_TP + total_FN) > 0 else 0\n",
        "    f1_score = 2 * precision * recall / (precision + recall) if (precision + recall) > 0 else 0\n",
        "    print(\"TP:\", total_TP)\n",
        "    print(\"FP:\", total_FP)\n",
        "    print(\"FN:\", total_FN)\n",
        "\n",
        "    print(\"P:\", precision)\n",
        "    print(\"R:\", recall)\n",
        "    print(\"F1:\", f1_score)\n",
        "\n",
        "# Example usage:\n",
        "evaluate_file(\"/content/EvalLLaMA2-7B.tsv\")"
      ],
      "metadata": {
        "colab": {
          "base_uri": "https://localhost:8080/"
        },
        "id": "jFirD3NH9xx1",
        "outputId": "55a2f101-a1f8-4b22-9640-8f4c3a86bd31"
      },
      "execution_count": null,
      "outputs": [
        {
          "output_type": "stream",
          "name": "stdout",
          "text": [
            "TP: 5968\n",
            "FP: 2743\n",
            "FN: 2013\n",
            "P: 0.6851107794742279\n",
            "R: 0.7477759679238191\n",
            "F1: 0.7150730889048647\n"
          ]
        }
      ]
    },
    {
      "cell_type": "code",
      "source": [
        "# CADEC evaluation, No need to remove any columns from the results."
      ],
      "metadata": {
        "id": "kfM4s7wLVX52"
      },
      "execution_count": null,
      "outputs": []
    },
    {
      "cell_type": "code",
      "source": [
        "# Here I added if len(parts) >= 3: for CADEC cuz some rows has empty output and target\n",
        "import os\n",
        "def evaluate_spans(predictions, targets):\n",
        "    TP = 0\n",
        "    FP = 0\n",
        "    FN = 0\n",
        "# For Format1\n",
        "    #pred_spans = [span.strip().replace('disorder:', '') for span in predictions.split(';') if span.strip()]\n",
        "    #target_spans = [span.strip().replace('disorder:', '') for span in targets.split(';') if span.strip()]\n",
        "# For Format2\n",
        "    pred_spans = [span.strip() for span in predictions.split(';') if span.strip()]\n",
        "    target_spans = [span.strip() for span in targets.split(';') if span.strip()]\n",
        "\n",
        "    for pred in pred_spans:\n",
        "        if pred in target_spans:\n",
        "            TP += 1\n",
        "            target_spans.remove(pred)  # Remove the matched span from target_spans\n",
        "        else:\n",
        "            FP += 1\n",
        "\n",
        "    # Calculate the remaining unmatched gold spans as false negatives\n",
        "    FN = len(target_spans)\n",
        "\n",
        "    return TP, FP, FN\n",
        "\n",
        "def evaluate_file(file_path):\n",
        "    total_TP = 0\n",
        "    total_FP = 0\n",
        "    total_FN = 0\n",
        "    temp_file_path = \"/content/Metrics.tsv\"\n",
        "    header_written = False\n",
        "\n",
        "    with open(file_path, 'r') as file, open(temp_file_path, 'w') as temp_file:\n",
        "        for line in file:\n",
        "            if not header_written:\n",
        "                header_written = True\n",
        "                temp_file.write(line.strip() + \"\\tTP\\tFP\\tFN\\n\")\n",
        "                continue\n",
        "\n",
        "            parts = line.strip().split('\\t')\n",
        "            if len(parts) >= 3:\n",
        "                prediction = parts[1]\n",
        "                target = parts[2]\n",
        "                true_positives, false_positives, false_negatives = evaluate_spans(prediction, target)\n",
        "                temp_file.write(f\"{line.strip()}\\t{true_positives}\\t{false_positives}\\t{false_negatives}\\n\")\n",
        "                total_TP += true_positives\n",
        "                total_FP += false_positives\n",
        "                total_FN += false_negatives\n",
        "            else:\n",
        "                temp_file.write(f\"{line.strip()}\\n\")\n",
        "    precision = total_TP / (total_TP + total_FP) if (total_TP + total_FP) > 0 else 0\n",
        "    recall = total_TP / (total_TP + total_FN) if (total_TP + total_FN) > 0 else 0\n",
        "    f1_score = 2 * precision * recall / (precision + recall) if (precision + recall) > 0 else 0\n",
        "    print(\"TP:\", total_TP)\n",
        "    print(\"FP:\", total_FP)\n",
        "    print(\"FN:\", total_FN)\n",
        "\n",
        "    print(\"P:\", precision)\n",
        "    print(\"R:\", recall)\n",
        "    print(\"F1:\", f1_score)\n",
        "\n",
        "# Example usage:\n",
        "evaluate_file(\"/content/LLaMA2-7B.tsv\")"
      ],
      "metadata": {
        "colab": {
          "base_uri": "https://localhost:8080/"
        },
        "id": "bTMx9dimdK4U",
        "outputId": "b97e696b-be5a-45ec-e22e-8a7246b66e76"
      },
      "execution_count": null,
      "outputs": [
        {
          "output_type": "stream",
          "name": "stdout",
          "text": [
            "TP: 629\n",
            "FP: 333\n",
            "FN: 360\n",
            "P: 0.6538461538461539\n",
            "R: 0.6359959555106168\n",
            "F1: 0.6447975397232188\n"
          ]
        }
      ]
    },
    {
      "cell_type": "markdown",
      "source": [],
      "metadata": {
        "id": "15xUhDPNLftP"
      }
    },
    {
      "cell_type": "code",
      "source": [
        "# Here I'm just playing to ensure correct metrics are calculated"
      ],
      "metadata": {
        "id": "6eycfvXnunNc"
      },
      "execution_count": null,
      "outputs": []
    },
    {
      "cell_type": "code",
      "source": [
        "predictions = \"disorder: Abdominal pain; disorder: abdominal discomfort; disorder: nausea; disorder: severe pain; disorder: ventral hernia; disorder: symptoms; disorder: PTA; disorder: ventral hernia; disorder: symptoms; disorder: PTA; disorder: abdominal discomfort; disorder: nausea; disorder: severe pain; disorder: epigastric ventral hernia; disorder: omental fat stranding; disorder: ventral hernia; disorder: omental inflammatory fat stranding; disorder: omental fat stranding; disorder: inflammatory fat\"\n",
        "pred_spans = [span.strip().replace('disorder:', '') for span in predictions.split(';') if span.strip()]\n",
        "\n",
        "print(pred_spans)"
      ],
      "metadata": {
        "colab": {
          "base_uri": "https://localhost:8080/"
        },
        "id": "pEzL4g21MoOl",
        "outputId": "1130decf-cee3-457a-b760-af2e1a54c761"
      },
      "execution_count": null,
      "outputs": [
        {
          "output_type": "stream",
          "name": "stdout",
          "text": [
            "[' Abdominal pain', ' abdominal discomfort', ' nausea', ' severe pain', ' ventral hernia', ' symptoms', ' PTA', ' ventral hernia', ' symptoms', ' PTA', ' abdominal discomfort', ' nausea', ' severe pain', ' epigastric ventral hernia', ' omental fat stranding', ' ventral hernia', ' omental inflammatory fat stranding', ' omental fat stranding', ' inflammatory fat']\n"
          ]
        }
      ]
    },
    {
      "cell_type": "code",
      "source": [
        "#target = \"disorder: Abdominal pain; disorder: adhesions; disorder: recurrent ventral hernia; disorder: end stage renal disease; disorder: epigastric ventral hernia; disorder: recurrence ventral hernia; disorder: symptoms; disorder: abdominal discomfort; disorder: nausea; disorder: severe pain; disorder: epigastric ventral hernia; disorder: ventral hernia; disorder: inflammatory fat stranding; disorder: prominent loops of small bowel; disorder: fecalization of bowel; disorder: inflammatory fat stranding; disorder: loops of bowel distal; disorder: prominent loops; disorder: decompressed; disorder: incarcerated hernia; disorder: obstruction; disorder: end-stage renal disease; disorder: glomerulonephritis; disorder: IgA diagnosed; disorder: anuric; disorder: calciphylaxis; disorder: hypercalcemia; disorder: arteriovenous fistula; disorder: chronic pain; disorder: rheumatic heart disease; disorder: endocarditis; disorder: hypertension; disorder: Anxiety; disorder: pain; disorder: JVD; disorder: tachy; disorder: murmur; disorder: TTP; disorder: gaurding; disorder: non-distended; disorder: rebound; disorder: Prominent loops; disorder: ventral hernia; disorder: fecalization of bowel contents; disorder: inflammatory fat stranding; disorder: bowel ischemia; disorder: perforation; disorder: ventral hernia; disorder: collapsed; disorder: incarcerated hernia; disorder: bowel obstruction; disorder: bowel loops; disorder: ventral hernia; disorder: lesions; disorder: hemangiomas; disorder: hepatic cyst; disorder: renal osteodystrophy; disorder: subclavian vein stenosis; disorder: complication; disorder: Recurrent ventral hernia; disorder: small bowel obstruction; disorder: compromised bowel; disorder: Chronic renal failure; disorder: wound; disorder: wound; disorder: pain; disorder: pain; disorder: Fever; disorder: Inability to eat; disorder: persistant vomiting; disorder: symptoms\"\n",
        "#prediction = \"disorder: Abdominal pain; disorder: abdominal discomfort; disorder: nausea; disorder: severe pain; disorder: ventral hernia; disorder: symptoms; disorder: PTA; disorder: ventral hernia; disorder: symptoms; disorder: PTA; disorder: abdominal discomfort; disorder: nausea; disorder: severe pain; disorder: epigastric ventral hernia; disorder: omental fat stranding; disorder: ventral hernia; disorder: omental inflammatory fat stranding; disorder: omental fat stranding; disorder: inflammatory fat\"\n",
        "target = \"disorder: chronic obstructive pulmonary disease; disorder: coronary artery disease; disorder: mass; disorder: mass; disorder: collapse; disorder: dyspnea on exertion; disorder: dyspnea on exertion; disorder: lower extremity edema; disorder: left against medical advise; disorder: shortness of breath; disorder: dyspnea; disorder: lower extremity edema; disorder: chronic cough; disorder: weight loss; disorder: hemoptysis; disorder: deep vein thrombosis; disorder: pleural effusion; disorder: cardiomegaly; disorder: INR decreased; disorder: mass; disorder: acute respiratory distress; disorder: respiratory failure; disorder: distress; disorder: mass; disorder: Atrial fibrillation; disorder: Chronic obstructive pulmonary disease; disorder: Rheumatic heart disease; disorder: Coronary artery disease; disorder: Pulmonary artery hypertension; disorder: Biatrial enlargement; disorder: Hyperlipidemia; disorder: Hypothyroidism; disorder: hepatitis; disorder: decreased breath sounds; disorder: coarse breath sounds; disorder: rales; disorder: mechanical heart sounds; disorder: pitting edema; disorder: tenderness; disorder: opacification; disorder: hemothorax; disorder: large right atrium; disorder: atrial fibrillation; disorder: right axis deviation; disorder: T-wave inversions; disorder: ST changes; disorder: mass; disorder: mass; disorder: malignancy; disorder: non-small cell lung cancer; disorder: malignancy; disorder: hypercalcemic; disorder: lung cancer; disorder: mass; disorder: compression; disorder: respiratory function; disorder: symptoms; disorder: respiratory function; disorder: Respiratory failure; disorder: respiratory failure; disorder: lung mass; disorder: copious amount of secretions; disorder: lung mass; disorder: lung disease; disorder: chronic obstructive pulmonary disease; disorder: chronic obstructive pulmonary disease; disorder: terminal illness; disorder: respiratory arrest; disorder: respiratory arrest; disorder: rate junctional; disorder: asystolic; disorder: Lung cancer; disorder: atrial fibrillation; disorder: Chronic obstructive pulmonary disease; disorder: Hypercalcemia malignancy; disorder: Coronary artery disease\"\n",
        "prediction = \"disorder: chronic obstructive pulmonary disease; disorder: coronary artery disease; disorder: mitral valve; disorder: mass; disorder: collapse; disorder: dyspnea on exertion; disorder: dyspnea on exertion; disorder: lower extremity edema; disorder: chronic cough; disorder: weight loss; disorder: hemoptysis; disorder: decreased breath sounds; disorder: decreased heart rate; disorder: decreased heart sounds; disorder: scattered rales; disorder: mechanical heart sounds; disorder: Abdomen benign; disorder: pit\"\n",
        "def evaluate_spans(predictions, targets):\n",
        "    TP = 0\n",
        "    FP = 0\n",
        "    FN = 0\n",
        "\n",
        "    pred_spans = [span.strip().replace('disorder:', '') for span in predictions.split(';') if span.strip()]\n",
        "    target_spans = [span.strip().replace('disorder:', '') for span in targets.split(';') if span.strip()]\n",
        "\n",
        "    for pred in pred_spans:\n",
        "        if pred in target_spans:\n",
        "            TP += 1\n",
        "            target_spans.remove(pred)  # Remove the matched span from target_spans\n",
        "        else:\n",
        "            FP += 1\n",
        "\n",
        "    # Calculate the remaining unmatched gold spans as false negatives\n",
        "    FN = len(target_spans)\n",
        "\n",
        "    return TP, FP, FN\n",
        "\n",
        "print(evaluate_spans(prediction, target))\n"
      ],
      "metadata": {
        "colab": {
          "base_uri": "https://localhost:8080/"
        },
        "id": "7D0M103nNWau",
        "outputId": "cb3e8993-c787-4847-f716-3f8b7d2305a2"
      },
      "execution_count": null,
      "outputs": [
        {
          "output_type": "stream",
          "name": "stdout",
          "text": [
            "(12, 6, 64)\n"
          ]
        }
      ]
    }
  ]
}