{
  "nbformat": 4,
  "nbformat_minor": 0,
  "metadata": {
    "colab": {
      "provenance": []
    },
    "kernelspec": {
      "name": "python3",
      "display_name": "Python 3"
    },
    "language_info": {
      "name": "python"
    }
  },
  "cells": [
    {
      "cell_type": "code",
      "execution_count": null,
      "metadata": {
        "id": "Btaj2Hh3fqio"
      },
      "outputs": [],
      "source": [
        "import pandas as pd\n",
        "\n",
        "df = pd.read_csv('/content/BioMistBeam.tsv', delimiter='\\t')\n",
        "\n",
        "def get_majority_vote(row):\n",
        "    spans_count = {}\n",
        "\n",
        "    columns = [\"Beam1\", \"Beam2\", \"Beam3\", \"Beam4\"]\n",
        "\n",
        "    # count occurrences of each span\n",
        "    for col in columns:\n",
        "        if pd.notna(row[col]):\n",
        "            spans = [span.strip() for span in row[col].split(';')]\n",
        "            for span in spans:\n",
        "                if span in spans_count:\n",
        "                    spans_count[span] += 1\n",
        "                else:\n",
        "                    spans_count[span] = 1\n",
        "\n",
        "    # select spans present in at least 3 columns\n",
        "    majority_vote = [span for span, count in spans_count.items() if count >= 3]\n",
        "\n",
        "    # remove these spans from all columns\n",
        "    for col in columns:\n",
        "        if pd.notna(row[col]):\n",
        "            spans = [span.strip() for span in row[col].split(';')]\n",
        "            updated_spans = [span for span in spans if span not in majority_vote]\n",
        "            row[col] = '; '.join(updated_spans) if updated_spans else None\n",
        "\n",
        "    return '; '.join(majority_vote)\n",
        "\n",
        "# itrate through each row and create the \"Majority Vote\" column\n",
        "df['Majority Vote'] = df.apply(get_majority_vote, axis=1)\n",
        "df.to_csv('MajVoteOf3.tsv', sep='\\t', index=False)\n"
      ]
    }
  ]
}